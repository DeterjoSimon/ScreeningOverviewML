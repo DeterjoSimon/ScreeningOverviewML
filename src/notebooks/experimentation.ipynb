{
 "cells": [
  {
   "attachments": {},
   "cell_type": "markdown",
   "metadata": {},
   "source": [
    "## Import"
   ]
  },
  {
   "cell_type": "code",
   "execution_count": 1,
   "metadata": {},
   "outputs": [],
   "source": [
    "import pandas as pd"
   ]
  },
  {
   "attachments": {},
   "cell_type": "markdown",
   "metadata": {},
   "source": [
    "## Code"
   ]
  },
  {
   "cell_type": "code",
   "execution_count": 3,
   "metadata": {},
   "outputs": [
    {
     "name": "stdout",
     "output_type": "stream",
     "text": [
      "   record_id                                              title  \\\n",
      "0          1  Binding Selectivity of Methanobactin from Meth...   \n",
      "1          2  Characteristics and prevalence of Wilson's dis...   \n",
      "2          3  Modality of treatment and potential outcome of...   \n",
      "3          4  The early history of manganese and the recogni...   \n",
      "4          5  Zinc monotherapy for young children with presy...   \n",
      "\n",
      "                                            abstract keywords  \\\n",
      "0  Methanobactin (Mb) from Methylosinus trichospo...      NaN   \n",
      "1  BACKGROUND AND AIMS: Only a few epidemiologica...      NaN   \n",
      "2  BACKGROUND/PURPOSE: This study aimed to invest...      NaN   \n",
      "3  The history of the biomedical recognition mang...      NaN   \n",
      "4  BACKGROUND AND AIM: Few studies of zinc monoth...      NaN   \n",
      "\n",
      "                                             authors  year    date  \\\n",
      "0             McCabe, J. W.;Vangala, R.;Angel, L. A.  2017  Aug 30   \n",
      "1  Poujois, A.;Woimant, F.;Samson, S.;Chaine, P.;...  2017  Jun 22   \n",
      "2  Tai, C. S.;Wu, J. F.;Chen, H. L.;Hsu, H. Y.;Ch...  2017  Jun 01   \n",
      "3                                       Blanc, P. D.  2017  Apr 14   \n",
      "4  Eda, K.;Mizuochi, T.;Iwama, I.;Inui, A.;Etani,...  2018  Apr 28   \n",
      "\n",
      "                                               doi  label_included  \\\n",
      "0     https://dx.doi.org/10.1007/s13361-017-1778-9               0   \n",
      "1  https://dx.doi.org/10.1016/j.clinre.2017.05.011               0   \n",
      "2    https://dx.doi.org/10.1016/j.jfma.2017.05.008               1   \n",
      "3   https://dx.doi.org/10.1016/j.neuro.2017.04.006               0   \n",
      "4             https://dx.doi.org/10.1111/jgh.13812               0   \n",
      "\n",
      "   label_abstract_screening  duplicate_record_id  \n",
      "0                         0                  NaN  \n",
      "1                         1                  NaN  \n",
      "2                         1                  NaN  \n",
      "3                         0                  NaN  \n",
      "4                         0                  NaN  \n"
     ]
    }
   ],
   "source": [
    "df = pd.read_csv('../../dataset/Appenzeller-Herzog_2020.csv')\n",
    "print(df.head())"
   ]
  },
  {
   "cell_type": "code",
   "execution_count": null,
   "metadata": {},
   "outputs": [],
   "source": []
  }
 ],
 "metadata": {
  "kernelspec": {
   "display_name": "Python 3",
   "language": "python",
   "name": "python3"
  },
  "language_info": {
   "codemirror_mode": {
    "name": "ipython",
    "version": 3
   },
   "file_extension": ".py",
   "mimetype": "text/x-python",
   "name": "python",
   "nbconvert_exporter": "python",
   "pygments_lexer": "ipython3",
   "version": "3.10.6"
  },
  "orig_nbformat": 4
 },
 "nbformat": 4,
 "nbformat_minor": 2
}
